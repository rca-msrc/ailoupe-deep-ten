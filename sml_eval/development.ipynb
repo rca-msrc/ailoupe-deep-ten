{
 "cells": [
  {
   "cell_type": "markdown",
   "id": "b9dd2dd4-1ce4-4847-aa21-fa1db4f3eefe",
   "metadata": {},
   "source": [
    "# Testing Dataset"
   ]
  },
  {
   "cell_type": "code",
   "execution_count": 1,
   "id": "5cdec6bd-6283-4656-9dc4-781d7dd02e9a",
   "metadata": {},
   "outputs": [],
   "source": [
    "from datasets import get_dataset\n",
    "from encoding.transforms import get_transform"
   ]
  },
  {
   "cell_type": "code",
   "execution_count": 2,
   "id": "28c1094d-f115-4980-aaa6-8e489500a054",
   "metadata": {},
   "outputs": [],
   "source": [
    "(transform_train, transform_val) = get_transform(\"imagenet\")"
   ]
  },
  {
   "cell_type": "code",
   "execution_count": 3,
   "id": "7d142ebb-a24b-4b40-baba-175a0119d011",
   "metadata": {},
   "outputs": [],
   "source": [
    "ds_args = [\n",
    "    (\"sml_lab\", \"single\", \"train\", 1000, transform_train),\n",
    "    (\"sml_lab\", \"single\", \"test\", 1000, transform_val),\n",
    "    (\"sml_lab_test\", \"single\", None, None, transform_val),\n",
    "    (\"sml_expo_eval\", \"single\", None, None, transform_val),\n",
    "    (\"sml_lab\", \"dual\", \"train\", 1000, transform_train),\n",
    "    (\"sml_lab\", \"dual\", \"test\", 1000, transform_val),\n",
    "    (\"sml_lab_test\", \"dual\", None, None, transform_val),\n",
    "    (\"sml_expo_eval\", \"dual\", None, None, transform_val)\n",
    "]"
   ]
  },
  {
   "cell_type": "code",
   "execution_count": 4,
   "id": "e7de8e6d-2901-49ef-ac43-194c32be462d",
   "metadata": {},
   "outputs": [
    {
     "name": "stdout",
     "output_type": "stream",
     "text": [
      "sml_lab, single, split: train, n per class: 1000, len: 29532\n",
      "sml_lab, single, split: test, n per class: 1000, len: 8595\n",
      "sml_lab_test, single, split: None, n per class: None, len: 5000\n",
      "sml_expo_eval, single, split: None, n per class: None, len: 1506\n",
      "sml_lab, dual, split: train, n per class: 1000, len: 100000\n",
      "sml_lab, dual, split: test, n per class: 1000, len: 100000\n",
      "sml_lab_test, dual, split: None, n per class: None, len: 125000\n",
      "sml_expo_eval, dual, split: None, n per class: None, len: 11998\n"
     ]
    }
   ],
   "source": [
    "for args in ds_args:\n",
    "    ds = get_dataset(*args)\n",
    "    print(f'{args[0]}, {args[1]}, split: {args[2]}, n per class: {args[3]}, len: {len(ds)}')"
   ]
  },
  {
   "cell_type": "markdown",
   "id": "fe298c36-f228-49d8-a349-fb0dcc9eeb4c",
   "metadata": {},
   "source": [
    "### Single Image Dataset\n",
    "Are the images unique, or are there doubles?"
   ]
  },
  {
   "cell_type": "code",
   "execution_count": 5,
   "id": "5ae2d67b-93f9-47b9-aca7-55aee5124cf8",
   "metadata": {},
   "outputs": [],
   "source": [
    "sml_lab_single_train_ds = get_dataset(\"sml_lab\", \"single\", \"train\", 1000, transform_train)"
   ]
  },
  {
   "cell_type": "code",
   "execution_count": 6,
   "id": "4248c0f1-37ea-41d6-b47f-377e1eba8ac1",
   "metadata": {},
   "outputs": [],
   "source": [
    "sml_lab_single_train_image_paths = [a[-1] for a in sml_lab_single_train_ds]"
   ]
  },
  {
   "cell_type": "code",
   "execution_count": 7,
   "id": "3891ea91-020e-42ae-8ae2-0f9fbe769174",
   "metadata": {},
   "outputs": [],
   "source": [
    "sml_lab_single_test_ds = get_dataset(\"sml_lab\", \"single\", \"test\", 1000, transform_val)"
   ]
  },
  {
   "cell_type": "code",
   "execution_count": 8,
   "id": "1d04cc97-bca3-4686-b802-dd33c78f792d",
   "metadata": {},
   "outputs": [],
   "source": [
    "sml_lab_single_test_image_paths = [a[-1] for a in sml_lab_single_test_ds]"
   ]
  },
  {
   "cell_type": "markdown",
   "id": "1fb53bb2-359a-47af-a918-6f73a78b2a21",
   "metadata": {},
   "source": [
    "Train and Test sets for Single Dataset are unique."
   ]
  },
  {
   "cell_type": "code",
   "execution_count": 10,
   "id": "1555c502-c763-43b5-873b-c9f18d835a5b",
   "metadata": {
    "scrolled": true
   },
   "outputs": [
    {
     "data": {
      "text/plain": [
       "(29532, 8595)"
      ]
     },
     "execution_count": 10,
     "metadata": {},
     "output_type": "execute_result"
    }
   ],
   "source": [
    "len(sml_lab_single_train_image_paths), len(sml_lab_single_test_image_paths)"
   ]
  },
  {
   "cell_type": "code",
   "execution_count": 11,
   "id": "cbfbf779-229b-4dcd-a60b-7bee703afca0",
   "metadata": {},
   "outputs": [
    {
     "data": {
      "text/plain": [
       "(29532, 8595)"
      ]
     },
     "execution_count": 11,
     "metadata": {},
     "output_type": "execute_result"
    }
   ],
   "source": [
    "len(set(sml_lab_single_train_image_paths)), len(set(sml_lab_single_test_image_paths))"
   ]
  },
  {
   "cell_type": "code",
   "execution_count": 17,
   "id": "858df328-65b4-47dc-a182-8b5756229306",
   "metadata": {},
   "outputs": [],
   "source": [
    "sml_lab_test_ds = get_dataset(\"sml_lab_test\", \"single\", None, None, transform_val)\n",
    "sml_expo_eval_ds = get_dataset(\"sml_expo_eval\", \"single\", None, None, transform_val)"
   ]
  },
  {
   "cell_type": "code",
   "execution_count": 14,
   "id": "a658e386-3eb6-4a4d-9391-6856a213a87c",
   "metadata": {},
   "outputs": [],
   "source": [
    "sml_lab_test_image_paths = [a[-1] for a in sml_lab_test_ds]\n",
    "sml_expo_eval_image_paths = [a[-1] for a in sml_expo_eval_ds]"
   ]
  },
  {
   "cell_type": "markdown",
   "id": "a31c39fb-93ac-4c1f-9eac-fc734cd4bd78",
   "metadata": {},
   "source": [
    "Single Dataset Test and Eval Datasets are unique."
   ]
  },
  {
   "cell_type": "code",
   "execution_count": 15,
   "id": "0be675a1-ad5f-4ee9-b12e-f51af6cb799c",
   "metadata": {},
   "outputs": [
    {
     "data": {
      "text/plain": [
       "(5000, 1506)"
      ]
     },
     "execution_count": 15,
     "metadata": {},
     "output_type": "execute_result"
    }
   ],
   "source": [
    "len(sml_lab_test_image_paths), len(sml_expo_eval_image_paths)"
   ]
  },
  {
   "cell_type": "code",
   "execution_count": 16,
   "id": "31a42650-a04a-45a0-9e17-e38b56a884be",
   "metadata": {},
   "outputs": [
    {
     "data": {
      "text/plain": [
       "(5000, 1506)"
      ]
     },
     "execution_count": 16,
     "metadata": {},
     "output_type": "execute_result"
    }
   ],
   "source": [
    "len(set(sml_lab_test_image_paths)), len(set(sml_expo_eval_image_paths))"
   ]
  },
  {
   "cell_type": "markdown",
   "id": "57a52e1a-ffc5-4d7a-ab5f-3f033982ae97",
   "metadata": {},
   "source": [
    "### Dual Image Dataset\n",
    "\n",
    "Are the images unique, or are there doubles?\n"
   ]
  },
  {
   "cell_type": "code",
   "execution_count": 23,
   "id": "a9875954-21b1-481f-b0c7-354560bd70a5",
   "metadata": {},
   "outputs": [],
   "source": [
    "sml_lab_dual_train_ds = get_dataset(\"sml_lab\", \"dual\", \"train\", 1000, transform_train)\n",
    "sml_lab_dual_test_ds = get_dataset(\"sml_lab\", \"dual\", \"test\", 1000, transform_val)\n",
    "sml_lab_test_dual_ds = get_dataset(\"sml_lab_test\", \"dual\", None, None, transform_val)\n",
    "sml_expo_eval_dual_ds = get_dataset(\"sml_expo_eval\", \"dual\", None, None, transform_val)"
   ]
  },
  {
   "cell_type": "code",
   "execution_count": 24,
   "id": "2b7074a2-3e73-416a-8832-21b9ea05fba7",
   "metadata": {},
   "outputs": [
    {
     "name": "stdout",
     "output_type": "stream",
     "text": [
      "(None, None, 0, 'data/training/SML/sml_05-13/A1/B/20240513164918095.jpg', 'data/training/SML/sml_04-17/A1/A/20240417120538101.jpg')\n"
     ]
    }
   ],
   "source": [
    "for a in sml_lab_dual_train_ds:\n",
    "    print(a)\n",
    "    break"
   ]
  },
  {
   "cell_type": "code",
   "execution_count": 25,
   "id": "166225a8-25a7-4061-a4b8-3fb00e2ffa2c",
   "metadata": {},
   "outputs": [],
   "source": [
    "sml_lab_dual_train_image_paths = [(a[-2],a[-1]) for a in sml_lab_dual_train_ds]\n",
    "sml_lab_dual_test_image_paths = [(a[-2],a[-1]) for a in sml_lab_dual_test_ds]\n",
    "sml_lab_test_dual_image_paths = [(a[-2],a[-1]) for a in sml_lab_test_dual_ds]\n",
    "sml_expo_eval_dual_image_paths = [(a[-2],a[-1]) for a in sml_expo_eval_dual_ds]"
   ]
  },
  {
   "cell_type": "code",
   "execution_count": 26,
   "id": "c3357b0d-ef87-4d35-9ecf-cb48a1d71953",
   "metadata": {},
   "outputs": [
    {
     "data": {
      "text/plain": [
       "(100000, 100000, 125000, 11998)"
      ]
     },
     "execution_count": 26,
     "metadata": {},
     "output_type": "execute_result"
    }
   ],
   "source": [
    "len(sml_lab_dual_train_image_paths), len(sml_lab_dual_test_image_paths), len(sml_lab_test_dual_image_paths), len(sml_expo_eval_dual_image_paths)"
   ]
  },
  {
   "cell_type": "code",
   "execution_count": 27,
   "id": "732db701-cac9-40ec-96ee-a13e08477169",
   "metadata": {},
   "outputs": [
    {
     "data": {
      "text/plain": [
       "(100000, 100000, 125000, 11998)"
      ]
     },
     "execution_count": 27,
     "metadata": {},
     "output_type": "execute_result"
    }
   ],
   "source": [
    "len(set(sml_lab_dual_train_image_paths)), len(set(sml_lab_dual_test_image_paths)), len(set(sml_lab_test_dual_image_paths)), len(set(sml_expo_eval_dual_image_paths))"
   ]
  },
  {
   "cell_type": "code",
   "execution_count": null,
   "id": "d5a91afd-cee8-4632-b92d-f805b3f2bc56",
   "metadata": {},
   "outputs": [],
   "source": [
    "# Test"
   ]
  },
  {
   "cell_type": "code",
   "execution_count": 34,
   "id": "8976f24e-b76e-4fb7-bb69-671096fafdd3",
   "metadata": {},
   "outputs": [],
   "source": [
    "train_pairs = [(p[0].split('/')[5], p[1].split('/')[5]) for p in sml_lab_dual_train_image_paths]"
   ]
  },
  {
   "cell_type": "code",
   "execution_count": 35,
   "id": "a8f725af-96d5-4267-9a03-a985f9b435ad",
   "metadata": {},
   "outputs": [],
   "source": [
    "test_pairs = [(p[0].split('/')[5], p[1].split('/')[5]) for p in sml_lab_dual_test_image_paths]"
   ]
  },
  {
   "cell_type": "code",
   "execution_count": 36,
   "id": "5b21ccd3-1a63-4dd0-8526-9150eb8de232",
   "metadata": {},
   "outputs": [],
   "source": [
    "from collections import Counter"
   ]
  },
  {
   "cell_type": "code",
   "execution_count": 37,
   "id": "a818d800-6488-4b65-a296-74b959eaaa5c",
   "metadata": {},
   "outputs": [
    {
     "data": {
      "text/plain": [
       "Counter({('A', 'B'): 50164, ('B', 'A'): 49836})"
      ]
     },
     "execution_count": 37,
     "metadata": {},
     "output_type": "execute_result"
    }
   ],
   "source": [
    "Counter(train_pairs)"
   ]
  },
  {
   "cell_type": "code",
   "execution_count": 38,
   "id": "a226b09b-af44-40eb-85d3-0ba35ed6b1e0",
   "metadata": {},
   "outputs": [
    {
     "data": {
      "text/plain": [
       "Counter({('B', 'A'): 50121, ('A', 'B'): 49879})"
      ]
     },
     "execution_count": 38,
     "metadata": {},
     "output_type": "execute_result"
    }
   ],
   "source": [
    "Counter(test_pairs)"
   ]
  },
  {
   "cell_type": "code",
   "execution_count": null,
   "id": "f072bdf3-ec07-4d31-a661-a7a34edd02e2",
   "metadata": {},
   "outputs": [],
   "source": []
  }
 ],
 "metadata": {
  "kernelspec": {
   "display_name": "ailoupe-torch",
   "language": "python",
   "name": "ailoupe-torch"
  },
  "language_info": {
   "codemirror_mode": {
    "name": "ipython",
    "version": 3
   },
   "file_extension": ".py",
   "mimetype": "text/x-python",
   "name": "python",
   "nbconvert_exporter": "python",
   "pygments_lexer": "ipython3",
   "version": "3.13.0"
  }
 },
 "nbformat": 4,
 "nbformat_minor": 5
}
